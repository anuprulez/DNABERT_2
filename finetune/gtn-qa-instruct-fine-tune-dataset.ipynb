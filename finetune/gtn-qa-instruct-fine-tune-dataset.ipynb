{
 "cells": [
  {
   "cell_type": "code",
   "execution_count": 2,
   "id": "a1748588-c875-4ca7-80e2-7dac121b5d78",
   "metadata": {},
   "outputs": [],
   "source": [
    "import os\n",
    "import sys\n",
    "import json\n",
    "import random\n",
    "import re\n",
    "import string\n",
    "import tqdm\n",
    "import argparse\n",
    "import numpy as np\n",
    "import pandas as pd\n",
    "from multiprocessing import Pool\n",
    "#from functools import partial\n",
    "from rouge_score import rouge_scorer\n",
    "#from gpt3_api import make_requests as make_gpt3_requests\n",
    "import transformers\n",
    "from transformers import AutoTokenizer, GenerationConfig, LlamaForCausalLM, LlamaTokenizer\n",
    "\n",
    "import torch\n",
    "from peft import PeftModel\n",
    "\n",
    "random.seed(42)"
   ]
  },
  {
   "cell_type": "code",
   "execution_count": 3,
   "id": "aa33fab4-7974-407e-b29d-edca00295a18",
   "metadata": {},
   "outputs": [],
   "source": [
    "import torch\n",
    "from transformers import GPT2LMHeadModel, GPT2Tokenizer\n",
    "\n",
    "device = torch.device(\"cuda\")\n",
    "tokenizer = GPT2Tokenizer.from_pretrained(\"stanford-crfm/BioMedLM\")\n",
    "model = GPT2LMHeadModel.from_pretrained(\"stanford-crfm/BioMedLM\").to(device)"
   ]
  },
  {
   "cell_type": "code",
   "execution_count": 4,
   "id": "1fa68d71-7793-41fe-b87c-875a210cbd13",
   "metadata": {},
   "outputs": [
    {
     "name": "stdout",
     "output_type": "stream",
     "text": [
      "{'batch_dir': 'data/gpt3_generations/', 'seed_tasks_path': 'data/gtn-qa.jsonl', 'num_instructions_to_generate': 1, 'num_prompt_instructions': 1, 'request_batch_size': 20, 'use_clf_seed_tasks_only': False}\n"
     ]
    }
   ],
   "source": [
    "args = {\n",
    "    \"batch_dir\": \"data/gpt3_generations/\",\n",
    "    \"seed_tasks_path\": \"data/gtn-qa.jsonl\",\n",
    "    \"num_instructions_to_generate\": 1,\n",
    "    \"num_prompt_instructions\": 1,\n",
    "    \"request_batch_size\": 20,\n",
    "    \"use_clf_seed_tasks_only\": False\n",
    "}\n",
    "\n",
    "print(args)\n",
    "\n",
    "def encode_prompt(prompt_instructions, classification=False):\n",
    "    \"\"\"Encode multiple prompt instructions into a single string.\"\"\"\n",
    "    if classification:\n",
    "        prompt = \"Come up with a series of classification tasks. Try to specify the possible output labels when possible.\\n\"\n",
    "    else:\n",
    "        #prompt = \"Come up with a series of tasks:\\n\"\n",
    "        prompt = \"Come up with a series of tasks: \\n\"\n",
    "        #\"Come up with a new question using scientific keywords mentioned in existing tasks: \\n\"\n",
    "        #\"Come up with a series of new tasks using scientific keywords mentioned in existing tasks: \\n\" \n",
    "        #\"Come up with a series of new tasks: \\n\"\n",
    "    for idx, instruction in enumerate(prompt_instructions):\n",
    "        instruction = re.sub(r\"\\s+\", \" \", instruction).strip().rstrip(\":\")\n",
    "        prompt += f\"{idx+1}. {instruction}\\n\"\n",
    "    return prompt\n",
    "\n",
    "\n",
    "def sample_machine_instructions(machine_instructions, similarities, n):\n",
    "    \"\"\"Sample n machine instructions from a list of machine instructions.\"\"\"\n",
    "    return random.sample(machine_instructions, min(n, len(machine_instructions)))\n",
    "\n",
    "\n",
    "def find_word_in_string(w, s):\n",
    "    return re.compile(r'\\b({0})\\b'.format(w), flags=re.IGNORECASE).search(s)"
   ]
  },
  {
   "cell_type": "code",
   "execution_count": 5,
   "id": "1f8a646a-8cba-4287-9dd3-08cd0d81f65f",
   "metadata": {},
   "outputs": [],
   "source": [
    "def evaluate(\n",
    "    instruction,\n",
    "    input=None,\n",
    "    temperature=0.1, #0.7, #0.1,\n",
    "    top_p=0.75, #0.5, #0.75,\n",
    "    top_k=40,\n",
    "    num_beams=4,\n",
    "    max_new_tokens=128, #128,\n",
    "    #max_tokens=1024,\n",
    "    stream_output=False\n",
    "):\n",
    "    prompt = instruction\n",
    "    print(prompt)\n",
    "    inputs = tokenizer(prompt, return_tensors=\"pt\")\n",
    "    input_ids = inputs[\"input_ids\"].to(device)\n",
    "    \n",
    "    generation_config = GenerationConfig(\n",
    "        temperature=temperature,\n",
    "        top_p=top_p,\n",
    "        top_k=top_k,\n",
    "        num_beams=num_beams,\n",
    "    )\n",
    "\n",
    "    generate_params = {\n",
    "        \"input_ids\": input_ids,\n",
    "        \"generation_config\": generation_config,\n",
    "        \"return_dict_in_generate\": True,\n",
    "        \"output_scores\": True,\n",
    "        \"max_new_tokens\": max_new_tokens,\n",
    "    }\n",
    "\n",
    "    # Without streaming\n",
    "    with torch.no_grad():\n",
    "        generation_output = model.generate(\n",
    "            input_ids=input_ids,\n",
    "            generation_config=generation_config,\n",
    "            return_dict_in_generate=True,\n",
    "            output_scores=True,\n",
    "            max_new_tokens=max_new_tokens,\n",
    "        )\n",
    "    s = generation_output.sequences[0]\n",
    "    output = tokenizer.decode(s)\n",
    "    return output"
   ]
  },
  {
   "cell_type": "code",
   "execution_count": 6,
   "id": "f6d16d0c-02f4-4bb5-82c6-eabd925e8ad4",
   "metadata": {},
   "outputs": [],
   "source": [
    "def evaluate_pubmedgpt(instruction):\n",
    "    input_ids = tokenizer.encode(\n",
    "        instruction, return_tensors=\"pt\").to(device)\n",
    "    sample_output = model.generate(input_ids, do_sample=True, max_length=128, temperature=0.7, top_k=50)\n",
    "    print(\"Output:\\n\" + 100 * \"-\")\n",
    "    return tokenizer.decode(sample_output[0])"
   ]
  },
  {
   "cell_type": "code",
   "execution_count": 7,
   "id": "513f5d5c-ac9c-4b84-bd47-41ac0663a63d",
   "metadata": {},
   "outputs": [
    {
     "name": "stdout",
     "output_type": "stream",
     "text": [
      "Loaded 8 human-written seed instructions\n"
     ]
    }
   ],
   "source": [
    "seed_tasks = [json.loads(l) for l in open(args[\"seed_tasks_path\"], \"r\")]\n",
    "if args[\"use_clf_seed_tasks_only\"]:\n",
    "    seed_tasks = [t for t in seed_tasks if t[\"is_classification\"]]\n",
    "seed_instructions = [t[\"instruction\"] for t in seed_tasks]\n",
    "print(f\"Loaded {len(seed_instructions)} human-written seed instructions\")\n",
    "\n",
    "os.makedirs(args[\"batch_dir\"], exist_ok=True)"
   ]
  },
  {
   "cell_type": "code",
   "execution_count": null,
   "id": "f1a5756c-8d26-41e9-820b-be00158598ee",
   "metadata": {},
   "outputs": [
    {
     "name": "stderr",
     "output_type": "stream",
     "text": [
      "The attention mask and the pad token id were not set. As a consequence, you may observe unexpected behavior. Please pass your input's `attention_mask` to obtain reliable results.\n",
      "Setting `pad_token_id` to `eos_token_id`:28895 for open-end generation.\n",
      "The attention mask and the pad token id were not set. As a consequence, you may observe unexpected behavior. Please pass your input's `attention_mask` to obtain reliable results.\n",
      "Setting `pad_token_id` to `eos_token_id`:28895 for open-end generation.\n"
     ]
    },
    {
     "name": "stdout",
     "output_type": "stream",
     "text": [
      "Output:\n",
      "----------------------------------------------------------------------------------------------------\n",
      "Come up with a series of tasks: \n",
      "1. Are UMIs not specific to certain genes? Can the same UMI map to different genes?\n",
      "\n",
      "2.  How can UMIs be more specific?\n",
      "\n",
      "3.  Can UMIs be used to estimate the number of molecules of a gene in a sample?\n",
      "\n",
      "4.  What is the most efficient way to count UMIs?\n",
      "\n",
      "5.  Can UMIs be used for the absolute quantification of transcripts?\n",
      "\n",
      "6.  Are UMIs able to accurately quantify transcripts with a low abundance?\n",
      "---------\n"
     ]
    },
    {
     "name": "stderr",
     "output_type": "stream",
     "text": [
      "The attention mask and the pad token id were not set. As a consequence, you may observe unexpected behavior. Please pass your input's `attention_mask` to obtain reliable results.\n",
      "Setting `pad_token_id` to `eos_token_id`:28895 for open-end generation.\n"
     ]
    },
    {
     "name": "stdout",
     "output_type": "stream",
     "text": [
      "Output:\n",
      "----------------------------------------------------------------------------------------------------\n",
      "Come up with a series of tasks: \n",
      "1. Why is it important to know which cell a read came from?\n",
      "\n",
      "2. What are the characteristics of the cell?\n",
      "\n",
      "3. What are the characteristics of the genome?\n",
      "\n",
      "4. What are the characteristics of the transcriptome?\n",
      "\n",
      "5. What are the characteristics of the proteome?\n",
      "\n",
      "6. What is the purpose of the transcriptome?\n",
      "\n",
      "7. How can you determine which cell's transcriptome is from which cell?\n",
      "\n",
      "8. How can you determine which cell's genome is from which cell?\n",
      "\n",
      "9. How can you\n",
      "---------\n"
     ]
    },
    {
     "name": "stderr",
     "output_type": "stream",
     "text": [
      "The attention mask and the pad token id were not set. As a consequence, you may observe unexpected behavior. Please pass your input's `attention_mask` to obtain reliable results.\n",
      "Setting `pad_token_id` to `eos_token_id`:28895 for open-end generation.\n"
     ]
    },
    {
     "name": "stdout",
     "output_type": "stream",
     "text": [
      "Output:\n",
      "----------------------------------------------------------------------------------------------------\n",
      "Come up with a series of tasks: \n",
      "1. What do UMIs do?\n",
      "---------------------\n",
      "\n",
      "We have defined a set of UMIs for the capture of phenotypic information from electronic health records (EHRs) (see [Table 1](#t1-egems1238){ref-type=\"table\"}). These UMIs define a set of data items and associated values that can be extracted from EHRs for the purpose of research. We have divided these UMIs into two groups: 1) data elements that are commonly collected in E\n",
      "---------\n"
     ]
    },
    {
     "name": "stderr",
     "output_type": "stream",
     "text": [
      "The attention mask and the pad token id were not set. As a consequence, you may observe unexpected behavior. Please pass your input's `attention_mask` to obtain reliable results.\n",
      "Setting `pad_token_id` to `eos_token_id`:28895 for open-end generation.\n"
     ]
    },
    {
     "name": "stdout",
     "output_type": "stream",
     "text": [
      "Output:\n",
      "----------------------------------------------------------------------------------------------------\n",
      "Come up with a series of tasks: \n",
      "1. Can the same UMI map to different mRNA molecules of the same gene?\n",
      "\n",
      "2. Can different UMIs map to the same mRNA molecule?\n",
      "\n",
      "3. Are all the UMIs in a single cell unique?\n",
      "\n",
      "4. Are there multiple UMIs in a single cell which map to different mRNA molecules?\n",
      "\n",
      "5. Can we use UMIs to obtain information about the number of mRNA molecules in a single cell?\n",
      "\n",
      "6. Can we use UMIs to correct for PCR amplification bias?\n",
      "\n",
      "7. Does\n",
      "---------\n"
     ]
    },
    {
     "name": "stderr",
     "output_type": "stream",
     "text": [
      "The attention mask and the pad token id were not set. As a consequence, you may observe unexpected behavior. Please pass your input's `attention_mask` to obtain reliable results.\n",
      "Setting `pad_token_id` to `eos_token_id`:28895 for open-end generation.\n"
     ]
    },
    {
     "name": "stdout",
     "output_type": "stream",
     "text": [
      "Output:\n",
      "----------------------------------------------------------------------------------------------------\n",
      "Come up with a series of tasks: \n",
      "1. Can the same UMI map to different mRNA molecules of the same gene?\n",
      "\n",
      "2. Are the UMI sequences unique?\n",
      "\n",
      "3. Is the UMI sequence in error (mismatch, deletion, insertion)?\n",
      "\n",
      "4. Is the UMI present in the sequence read?\n",
      "\n",
      "5. How many different mRNA molecules are in the sample?\n",
      "\n",
      "6. Are there any biases in the cDNA synthesis?\n",
      "\n",
      "7. Do the reads have the same length?\n",
      "\n",
      "8. Do the UMI sequences match?\n",
      "\n",
      "9\n",
      "---------\n"
     ]
    },
    {
     "name": "stderr",
     "output_type": "stream",
     "text": [
      "The attention mask and the pad token id were not set. As a consequence, you may observe unexpected behavior. Please pass your input's `attention_mask` to obtain reliable results.\n",
      "Setting `pad_token_id` to `eos_token_id`:28895 for open-end generation.\n"
     ]
    },
    {
     "name": "stdout",
     "output_type": "stream",
     "text": [
      "Output:\n",
      "----------------------------------------------------------------------------------------------------\n",
      "Come up with a series of tasks: \n",
      "1. Why do we need to barcode a read transcript too? Isn’t mapping it against the reference genome enough?\n",
      "\n",
      "2. Which type of technology do you want to use?\n",
      "\n",
      "3. What are the advantages and disadvantages of each technology?\n",
      "\n",
      "4. What are the steps involved in the process of generating a barcode?\n",
      "\n",
      "5. What are the costs for each technology?\n",
      "\n",
      "6. What are your thoughts on how to make your technology available to the research community?\n",
      "\n",
      "\n",
      "---------\n"
     ]
    },
    {
     "name": "stderr",
     "output_type": "stream",
     "text": [
      "The attention mask and the pad token id were not set. As a consequence, you may observe unexpected behavior. Please pass your input's `attention_mask` to obtain reliable results.\n",
      "Setting `pad_token_id` to `eos_token_id`:28895 for open-end generation.\n"
     ]
    },
    {
     "name": "stdout",
     "output_type": "stream",
     "text": [
      "Output:\n",
      "----------------------------------------------------------------------------------------------------\n",
      "Come up with a series of tasks: \n",
      "1. Are UMIs not specific to certain genes? Can the same UMI map to different genes?\n",
      "\n",
      "2. Are there potential off-targets that can lead to artifacts?\n",
      "\n",
      "3. Is there a way to determine the optimal number of PCR cycles?\n",
      "\n",
      "4. How much sample is enough to get accurate results?\n",
      "\n",
      "5. Is there a way to determine how much input material to use?\n",
      "\n",
      "6. What is the optimal size of the PCR product?\n",
      "\n",
      "7. Should the UMI be used for normalization\n",
      "---------\n"
     ]
    },
    {
     "name": "stderr",
     "output_type": "stream",
     "text": [
      "The attention mask and the pad token id were not set. As a consequence, you may observe unexpected behavior. Please pass your input's `attention_mask` to obtain reliable results.\n",
      "Setting `pad_token_id` to `eos_token_id`:28895 for open-end generation.\n"
     ]
    },
    {
     "name": "stdout",
     "output_type": "stream",
     "text": [
      "Output:\n",
      "----------------------------------------------------------------------------------------------------\n",
      "Come up with a series of tasks: \n",
      "1. Are UMIs not specific to certain genes? Can the same UMI map to different genes?\n",
      "\n",
      "2. What is the error rate for UMIs? What is the percentage of UMIs that map to the wrong gene?\n",
      "\n",
      "3. How many cells are there in each of the samples?\n",
      "\n",
      "4. What are the number of UMIs that map to each gene?\n",
      "\n",
      "5. Do the total numbers of genes expressed in each cell line match the expected number?\n",
      "\n",
      "6. Is there any correlation with the\n",
      "---------\n"
     ]
    },
    {
     "name": "stderr",
     "output_type": "stream",
     "text": [
      "The attention mask and the pad token id were not set. As a consequence, you may observe unexpected behavior. Please pass your input's `attention_mask` to obtain reliable results.\n",
      "Setting `pad_token_id` to `eos_token_id`:28895 for open-end generation.\n"
     ]
    },
    {
     "name": "stdout",
     "output_type": "stream",
     "text": [
      "Output:\n",
      "----------------------------------------------------------------------------------------------------\n",
      "Come up with a series of tasks: \n",
      "1. TB Variant Filter reads the VCF and output only SNPs that have, at least, 90% frequency. How can the software extract such information from the VCF datasets?\n",
      "\n",
      "2.  TB Variant Filter output a series of SNPs and their corresponding frequencies. The user should be able to extract the most informative ones, according to the different criteria. For example, the user can choose to extract only non-synonymous SNPs, or only SNPs from exons or introns.\n",
      "\n",
      "```{=html}\n",
      "<!\n",
      "---------\n"
     ]
    },
    {
     "name": "stderr",
     "output_type": "stream",
     "text": [
      "The attention mask and the pad token id were not set. As a consequence, you may observe unexpected behavior. Please pass your input's `attention_mask` to obtain reliable results.\n",
      "Setting `pad_token_id` to `eos_token_id`:28895 for open-end generation.\n"
     ]
    },
    {
     "name": "stdout",
     "output_type": "stream",
     "text": [
      "Output:\n",
      "----------------------------------------------------------------------------------------------------\n",
      "Come up with a series of tasks: \n",
      "1. Why is it important to know which cell a read came from?\n",
      "2. Where are the cells in the brain?\n",
      "\n",
      "3. What is going on in the brain?\n",
      "\n",
      "4. What are the functions of that brain?\n",
      "\n",
      "5. What are the different cell types in the brain?\n",
      "\n",
      "6. Where are they located?\n",
      "\n",
      "7. Does it matter which cell type in the brain you investigate?\n",
      "\n",
      "8. Which cells are you working with?\n",
      "\n",
      "9. What is the most important question you want to answer\n",
      "---------\n"
     ]
    },
    {
     "name": "stderr",
     "output_type": "stream",
     "text": [
      "The attention mask and the pad token id were not set. As a consequence, you may observe unexpected behavior. Please pass your input's `attention_mask` to obtain reliable results.\n",
      "Setting `pad_token_id` to `eos_token_id`:28895 for open-end generation.\n"
     ]
    },
    {
     "name": "stdout",
     "output_type": "stream",
     "text": [
      "Output:\n",
      "----------------------------------------------------------------------------------------------------\n",
      "Come up with a series of tasks: \n",
      "1. Why is it important to know which cell a read came from?\n",
      "\n",
      "2. How does your knowledge about a cell affect your ability to understand and interpret your data?\n",
      "\n",
      "3. What are the different types of error in single-cell sequencing data?\n",
      "\n",
      "Session IV: Understanding and interpreting single-cell sequencing data.\n",
      "\n",
      "1. How do you interpret single-cell sequencing data?\n",
      "\n",
      "2. How can data from different platforms be compared?\n",
      "\n",
      "3. What is the relationship between different types of single-cell sequencing data?\n",
      "\n",
      "\n",
      "---------\n"
     ]
    },
    {
     "name": "stderr",
     "output_type": "stream",
     "text": [
      "The attention mask and the pad token id were not set. As a consequence, you may observe unexpected behavior. Please pass your input's `attention_mask` to obtain reliable results.\n",
      "Setting `pad_token_id` to `eos_token_id`:28895 for open-end generation.\n"
     ]
    },
    {
     "name": "stdout",
     "output_type": "stream",
     "text": [
      "Output:\n",
      "----------------------------------------------------------------------------------------------------\n",
      "Come up with a series of tasks: \n",
      "1. Are UMIs not specific to certain genes? Can the same UMI map to different genes?\n",
      "\n",
      "2. What is the quality of the raw data?\n",
      "\n",
      "3. Is the protocol reproducible?\n",
      "\n",
      "4. Is the protocol high-throughput?\n",
      "\n",
      "5. Is the protocol affordable?\n",
      "\n",
      "6. Is the protocol customizable?\n",
      "\n",
      "7. Can the protocol be modified to target other types of genes or organisms?\n",
      "\n",
      "8. Does the protocol enable single-cell genome sequencing?\n",
      "\n",
      "9. Is there\n",
      "---------\n"
     ]
    },
    {
     "name": "stderr",
     "output_type": "stream",
     "text": [
      "The attention mask and the pad token id were not set. As a consequence, you may observe unexpected behavior. Please pass your input's `attention_mask` to obtain reliable results.\n",
      "Setting `pad_token_id` to `eos_token_id`:28895 for open-end generation.\n"
     ]
    },
    {
     "name": "stdout",
     "output_type": "stream",
     "text": [
      "Output:\n",
      "----------------------------------------------------------------------------------------------------\n",
      "Come up with a series of tasks: \n",
      "1. Can the same UMI map to different mRNA molecules of the same gene?\n",
      "\n",
      "2. Can the same UMI map to different mRNA molecules of the same gene?\n",
      "\n",
      "3. Can UMIs map to multiple genes?\n",
      "\n",
      "To address these questions, we first constructed a custom UMI library from a human kidney reference RNA sample. We then sequenced 10 ng of this UMI library on the HiSeq4000 system to obtain single nucleotide resolution UMI counts.\n",
      "\n",
      "In order to estimate the error rate of UMIs, we calculated the\n",
      "---------\n"
     ]
    },
    {
     "name": "stderr",
     "output_type": "stream",
     "text": [
      "The attention mask and the pad token id were not set. As a consequence, you may observe unexpected behavior. Please pass your input's `attention_mask` to obtain reliable results.\n",
      "Setting `pad_token_id` to `eos_token_id`:28895 for open-end generation.\n"
     ]
    },
    {
     "name": "stdout",
     "output_type": "stream",
     "text": [
      "Output:\n",
      "----------------------------------------------------------------------------------------------------\n",
      "Come up with a series of tasks: \n",
      "1. Can the same UMI map to different mRNA molecules of the same gene?\n",
      "\n",
      "2. Does a single mRNA molecule give rise to different proteins?\n",
      "\n",
      "3. How many different mRNA molecules can be generated from a single gene?\n",
      "\n",
      "4. What is the frequency of occurrence of each of these mRNA molecules?\n",
      "\n",
      "5. What is the frequency of occurrence of each amino acid within a protein?\n",
      "\n",
      "6. What is the frequency of occurrence of each amino acid within a protein?\n",
      "\n",
      "7. How do we know if a given protein sequence is\n",
      "---------\n"
     ]
    },
    {
     "name": "stderr",
     "output_type": "stream",
     "text": [
      "The attention mask and the pad token id were not set. As a consequence, you may observe unexpected behavior. Please pass your input's `attention_mask` to obtain reliable results.\n",
      "Setting `pad_token_id` to `eos_token_id`:28895 for open-end generation.\n"
     ]
    },
    {
     "name": "stdout",
     "output_type": "stream",
     "text": [
      "Output:\n",
      "----------------------------------------------------------------------------------------------------\n",
      "Come up with a series of tasks: \n",
      "1. Why is it important to know which cell a read came from?\n",
      "2. What is your goal when processing a single cell?\n",
      "=======================================================================================\n",
      "---------\n"
     ]
    }
   ],
   "source": [
    "machine_instructions = []\n",
    "batch_inputs = []\n",
    "\n",
    "for _ in range(args[\"request_batch_size\"]):\n",
    "    prompt_instructions = []\n",
    "    prompt_instructions += random.sample(seed_instructions, args[\"num_prompt_instructions\"] - len(prompt_instructions))\n",
    "    random.shuffle(prompt_instructions)\n",
    "    prompt = encode_prompt(prompt_instructions, classification=args[\"use_clf_seed_tasks_only\"])\n",
    "    print(evaluate_pubmedgpt(prompt))\n",
    "    print(\"---------\")"
   ]
  },
  {
   "cell_type": "code",
   "execution_count": null,
   "id": "51f35b61-63ec-4ebf-9be8-58d8d3480869",
   "metadata": {},
   "outputs": [],
   "source": []
  },
  {
   "cell_type": "code",
   "execution_count": null,
   "id": "57557117-1871-4260-a64e-b98f385d1894",
   "metadata": {},
   "outputs": [],
   "source": []
  },
  {
   "cell_type": "code",
   "execution_count": null,
   "id": "af161191-2509-4a65-b85f-efc53807dcd0",
   "metadata": {},
   "outputs": [],
   "source": []
  },
  {
   "cell_type": "code",
   "execution_count": null,
   "id": "b67d7f6b-3cd4-4227-a8cf-d10f396ddc82",
   "metadata": {},
   "outputs": [],
   "source": []
  },
  {
   "cell_type": "code",
   "execution_count": null,
   "id": "5f811be0-2313-4183-ba1f-0e2e6c98286b",
   "metadata": {},
   "outputs": [],
   "source": []
  }
 ],
 "metadata": {
  "kernelspec": {
   "display_name": "Python 3 (ipykernel)",
   "language": "python",
   "name": "python3"
  },
  "language_info": {
   "codemirror_mode": {
    "name": "ipython",
    "version": 3
   },
   "file_extension": ".py",
   "mimetype": "text/x-python",
   "name": "python",
   "nbconvert_exporter": "python",
   "pygments_lexer": "ipython3",
   "version": "3.9.18"
  }
 },
 "nbformat": 4,
 "nbformat_minor": 5
}
